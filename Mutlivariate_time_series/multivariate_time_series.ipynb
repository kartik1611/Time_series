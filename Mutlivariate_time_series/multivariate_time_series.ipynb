{
 "cells": [
  {
   "cell_type": "code",
   "execution_count": 1,
   "metadata": {},
   "outputs": [],
   "source": [
    "### VAR model for Multivariate Time Series Analysis\n",
    "import os\n",
    "os.chdir(\"F://buffalo//buffalo project//time_series//Mutlivariate_time_series\")\n",
    "import pandas as pd\n",
    "import numpy as np \n",
    "%matplotlib inline\n",
    "import matplotlib.pylab as plt\n",
    "import pandas as pd\n",
    "import statsmodels as sm\n",
    "import numpy as np\n",
    "from statsmodels.tsa.arima_model import ARIMA\n",
    "from statsmodels.graphics.tsaplots import plot_acf,plot_pacf\n",
    "from statsmodels.tsa.stattools import acf, pacf"
   ]
  },
  {
   "cell_type": "code",
   "execution_count": 3,
   "metadata": {},
   "outputs": [
    {
     "data": {
      "text/html": [
       "<div>\n",
       "<style scoped>\n",
       "    .dataframe tbody tr th:only-of-type {\n",
       "        vertical-align: middle;\n",
       "    }\n",
       "\n",
       "    .dataframe tbody tr th {\n",
       "        vertical-align: top;\n",
       "    }\n",
       "\n",
       "    .dataframe thead th {\n",
       "        text-align: right;\n",
       "    }\n",
       "</style>\n",
       "<table border=\"1\" class=\"dataframe\">\n",
       "  <thead>\n",
       "    <tr style=\"text-align: right;\">\n",
       "      <th></th>\n",
       "      <th>Unnamed: 0</th>\n",
       "      <th>DAX</th>\n",
       "      <th>SMI</th>\n",
       "      <th>CAC</th>\n",
       "      <th>FTSE</th>\n",
       "    </tr>\n",
       "  </thead>\n",
       "  <tbody>\n",
       "    <tr>\n",
       "      <th>0</th>\n",
       "      <td>1</td>\n",
       "      <td>1628.75</td>\n",
       "      <td>1678.1</td>\n",
       "      <td>1772.8</td>\n",
       "      <td>2443.6</td>\n",
       "    </tr>\n",
       "    <tr>\n",
       "      <th>1</th>\n",
       "      <td>2</td>\n",
       "      <td>1613.63</td>\n",
       "      <td>1688.5</td>\n",
       "      <td>1750.5</td>\n",
       "      <td>2460.2</td>\n",
       "    </tr>\n",
       "    <tr>\n",
       "      <th>2</th>\n",
       "      <td>3</td>\n",
       "      <td>1606.51</td>\n",
       "      <td>1678.6</td>\n",
       "      <td>1718.0</td>\n",
       "      <td>2448.2</td>\n",
       "    </tr>\n",
       "    <tr>\n",
       "      <th>3</th>\n",
       "      <td>4</td>\n",
       "      <td>1621.04</td>\n",
       "      <td>1684.1</td>\n",
       "      <td>1708.1</td>\n",
       "      <td>2470.4</td>\n",
       "    </tr>\n",
       "    <tr>\n",
       "      <th>4</th>\n",
       "      <td>5</td>\n",
       "      <td>1618.16</td>\n",
       "      <td>1686.6</td>\n",
       "      <td>1723.1</td>\n",
       "      <td>2484.7</td>\n",
       "    </tr>\n",
       "  </tbody>\n",
       "</table>\n",
       "</div>"
      ],
      "text/plain": [
       "   Unnamed: 0      DAX     SMI     CAC    FTSE\n",
       "0           1  1628.75  1678.1  1772.8  2443.6\n",
       "1           2  1613.63  1688.5  1750.5  2460.2\n",
       "2           3  1606.51  1678.6  1718.0  2448.2\n",
       "3           4  1621.04  1684.1  1708.1  2470.4\n",
       "4           5  1618.16  1686.6  1723.1  2484.7"
      ]
     },
     "execution_count": 3,
     "metadata": {},
     "output_type": "execute_result"
    }
   ],
   "source": [
    "# Data import as DataFrame\n",
    "EuStocks = pd.read_csv(\"EuIndices.csv\")\n",
    "EuStocks.head()"
   ]
  },
  {
   "cell_type": "code",
   "execution_count": 5,
   "metadata": {},
   "outputs": [
    {
     "data": {
      "text/html": [
       "<div>\n",
       "<style scoped>\n",
       "    .dataframe tbody tr th:only-of-type {\n",
       "        vertical-align: middle;\n",
       "    }\n",
       "\n",
       "    .dataframe tbody tr th {\n",
       "        vertical-align: top;\n",
       "    }\n",
       "\n",
       "    .dataframe thead th {\n",
       "        text-align: right;\n",
       "    }\n",
       "</style>\n",
       "<table border=\"1\" class=\"dataframe\">\n",
       "  <thead>\n",
       "    <tr style=\"text-align: right;\">\n",
       "      <th></th>\n",
       "      <th>DAX</th>\n",
       "      <th>SMI</th>\n",
       "      <th>CAC</th>\n",
       "      <th>FTSE</th>\n",
       "    </tr>\n",
       "  </thead>\n",
       "  <tbody>\n",
       "    <tr>\n",
       "      <th>1991-01-01</th>\n",
       "      <td>1628.75</td>\n",
       "      <td>1678.1</td>\n",
       "      <td>1772.8</td>\n",
       "      <td>2443.6</td>\n",
       "    </tr>\n",
       "    <tr>\n",
       "      <th>1991-01-02</th>\n",
       "      <td>1613.63</td>\n",
       "      <td>1688.5</td>\n",
       "      <td>1750.5</td>\n",
       "      <td>2460.2</td>\n",
       "    </tr>\n",
       "    <tr>\n",
       "      <th>1991-01-03</th>\n",
       "      <td>1606.51</td>\n",
       "      <td>1678.6</td>\n",
       "      <td>1718.0</td>\n",
       "      <td>2448.2</td>\n",
       "    </tr>\n",
       "    <tr>\n",
       "      <th>1991-01-04</th>\n",
       "      <td>1621.04</td>\n",
       "      <td>1684.1</td>\n",
       "      <td>1708.1</td>\n",
       "      <td>2470.4</td>\n",
       "    </tr>\n",
       "    <tr>\n",
       "      <th>1991-01-07</th>\n",
       "      <td>1618.16</td>\n",
       "      <td>1686.6</td>\n",
       "      <td>1723.1</td>\n",
       "      <td>2484.7</td>\n",
       "    </tr>\n",
       "  </tbody>\n",
       "</table>\n",
       "</div>"
      ],
      "text/plain": [
       "                DAX     SMI     CAC    FTSE\n",
       "1991-01-01  1628.75  1678.1  1772.8  2443.6\n",
       "1991-01-02  1613.63  1688.5  1750.5  2460.2\n",
       "1991-01-03  1606.51  1678.6  1718.0  2448.2\n",
       "1991-01-04  1621.04  1684.1  1708.1  2470.4\n",
       "1991-01-07  1618.16  1686.6  1723.1  2484.7"
      ]
     },
     "execution_count": 5,
     "metadata": {},
     "output_type": "execute_result"
    }
   ],
   "source": [
    "# Providing the index to the time series\n",
    "data_frame = pd.DataFrame(data = EuStocks.values, columns = ['0', 'DAX', 'SMI', 'CAC', 'FTSE'],\n",
    "                           index = pd.DatetimeIndex(start = '1991-01-01', periods = 1860, freq = 'B'))\n",
    "data_frame_index = data_frame.drop(columns = ['0'])\n",
    "data_frame_index.head(5)"
   ]
  },
  {
   "cell_type": "markdown",
   "metadata": {},
   "source": [
    "# checking for stationary data"
   ]
  },
  {
   "cell_type": "code",
   "execution_count": 6,
   "metadata": {},
   "outputs": [],
   "source": [
    "\n",
    "from statsmodels.tsa.stattools import adfuller\n",
    "def test_stationarity(timeseries):\n",
    "    \n",
    "    #Perform Dickey-Fuller test:\n",
    "    print ('Results of Dickey-Fuller Test:')\n",
    "    dftest = adfuller(timeseries, autolag='AIC')\n",
    "    dfoutput = pd.Series(dftest[0:4], index=['Test Statistic','p-value','#Lags Used','Number of Observations Used'])\n",
    "    for key,value in dftest[4].items():\n",
    "        dfoutput['Critical Value (%s)'%key] = value\n",
    "    print (dfoutput) "
   ]
  },
  {
   "cell_type": "code",
   "execution_count": 8,
   "metadata": {},
   "outputs": [
    {
     "name": "stdout",
     "output_type": "stream",
     "text": [
      "Results of Dickey-Fuller Test:\n",
      "Test Statistic                    2.295811\n",
      "p-value                           0.998953\n",
      "#Lags Used                       24.000000\n",
      "Number of Observations Used    1835.000000\n",
      "Critical Value (1%)              -3.433919\n",
      "Critical Value (5%)              -2.863116\n",
      "Critical Value (10%)             -2.567609\n",
      "dtype: float64\n",
      "Results of Dickey-Fuller Test:\n",
      "Test Statistic                    2.235032\n",
      "p-value                           0.998910\n",
      "#Lags Used                       22.000000\n",
      "Number of Observations Used    1837.000000\n",
      "Critical Value (1%)              -3.433915\n",
      "Critical Value (5%)              -2.863115\n",
      "Critical Value (10%)             -2.567608\n",
      "dtype: float64\n",
      "Results of Dickey-Fuller Test:\n",
      "Test Statistic                    1.286413\n",
      "p-value                           0.996532\n",
      "#Lags Used                       17.000000\n",
      "Number of Observations Used    1842.000000\n",
      "Critical Value (1%)              -3.433905\n",
      "Critical Value (5%)              -2.863110\n",
      "Critical Value (10%)             -2.567606\n",
      "dtype: float64\n",
      "Results of Dickey-Fuller Test:\n",
      "Test Statistic                    0.106116\n",
      "p-value                           0.966476\n",
      "#Lags Used                       13.000000\n",
      "Number of Observations Used    1846.000000\n",
      "Critical Value (1%)              -3.433897\n",
      "Critical Value (5%)              -2.863107\n",
      "Critical Value (10%)             -2.567604\n",
      "dtype: float64\n"
     ]
    },
    {
     "data": {
      "text/plain": [
       "DAX     None\n",
       "SMI     None\n",
       "CAC     None\n",
       "FTSE    None\n",
       "dtype: object"
      ]
     },
     "execution_count": 8,
     "metadata": {},
     "output_type": "execute_result"
    }
   ],
   "source": [
    "# Loop to check all columns of the DF\n",
    "import functools\n",
    "data_frame_index.apply(functools.partial(test_stationarity))"
   ]
  },
  {
   "cell_type": "markdown",
   "metadata": {},
   "source": [
    "# As we can see that the p value is higer than .05 we have to convert the data to statinory"
   ]
  },
  {
   "cell_type": "code",
   "execution_count": 9,
   "metadata": {},
   "outputs": [
    {
     "data": {
      "text/html": [
       "<div>\n",
       "<style scoped>\n",
       "    .dataframe tbody tr th:only-of-type {\n",
       "        vertical-align: middle;\n",
       "    }\n",
       "\n",
       "    .dataframe tbody tr th {\n",
       "        vertical-align: top;\n",
       "    }\n",
       "\n",
       "    .dataframe thead th {\n",
       "        text-align: right;\n",
       "    }\n",
       "</style>\n",
       "<table border=\"1\" class=\"dataframe\">\n",
       "  <thead>\n",
       "    <tr style=\"text-align: right;\">\n",
       "      <th></th>\n",
       "      <th>DAX</th>\n",
       "      <th>SMI</th>\n",
       "      <th>CAC</th>\n",
       "      <th>FTSE</th>\n",
       "    </tr>\n",
       "  </thead>\n",
       "  <tbody>\n",
       "    <tr>\n",
       "      <th>1991-01-02</th>\n",
       "      <td>-15.12</td>\n",
       "      <td>10.4</td>\n",
       "      <td>-22.3</td>\n",
       "      <td>16.6</td>\n",
       "    </tr>\n",
       "    <tr>\n",
       "      <th>1991-01-03</th>\n",
       "      <td>-7.12</td>\n",
       "      <td>-9.9</td>\n",
       "      <td>-32.5</td>\n",
       "      <td>-12.0</td>\n",
       "    </tr>\n",
       "    <tr>\n",
       "      <th>1991-01-04</th>\n",
       "      <td>14.53</td>\n",
       "      <td>5.5</td>\n",
       "      <td>-9.9</td>\n",
       "      <td>22.2</td>\n",
       "    </tr>\n",
       "    <tr>\n",
       "      <th>1991-01-07</th>\n",
       "      <td>-2.88</td>\n",
       "      <td>2.5</td>\n",
       "      <td>15.0</td>\n",
       "      <td>14.3</td>\n",
       "    </tr>\n",
       "    <tr>\n",
       "      <th>1991-01-08</th>\n",
       "      <td>-7.55</td>\n",
       "      <td>-15.0</td>\n",
       "      <td>-8.8</td>\n",
       "      <td>-17.9</td>\n",
       "    </tr>\n",
       "  </tbody>\n",
       "</table>\n",
       "</div>"
      ],
      "text/plain": [
       "              DAX   SMI   CAC  FTSE\n",
       "1991-01-02 -15.12  10.4 -22.3  16.6\n",
       "1991-01-03  -7.12  -9.9 -32.5 -12.0\n",
       "1991-01-04  14.53   5.5  -9.9  22.2\n",
       "1991-01-07  -2.88   2.5  15.0  14.3\n",
       "1991-01-08  -7.55 -15.0  -8.8 -17.9"
      ]
     },
     "execution_count": 9,
     "metadata": {},
     "output_type": "execute_result"
    }
   ],
   "source": [
    "# Differencing the data\n",
    "data_diff = data_frame_index.diff().dropna()\n",
    "data_diff.head()"
   ]
  },
  {
   "cell_type": "markdown",
   "metadata": {},
   "source": [
    "# checking again if the data is statioary or not"
   ]
  },
  {
   "cell_type": "code",
   "execution_count": 11,
   "metadata": {},
   "outputs": [
    {
     "name": "stdout",
     "output_type": "stream",
     "text": [
      "Results of Dickey-Fuller Test:\n",
      "Test Statistic                -8.293747e+00\n",
      "p-value                        4.193799e-13\n",
      "#Lags Used                     1.900000e+01\n",
      "Number of Observations Used    1.839000e+03\n",
      "Critical Value (1%)           -3.433911e+00\n",
      "Critical Value (5%)           -2.863113e+00\n",
      "Critical Value (10%)          -2.567607e+00\n",
      "dtype: float64\n",
      "Results of Dickey-Fuller Test:\n",
      "Test Statistic                -8.543303e+00\n",
      "p-value                        9.652044e-14\n",
      "#Lags Used                     1.900000e+01\n",
      "Number of Observations Used    1.839000e+03\n",
      "Critical Value (1%)           -3.433911e+00\n",
      "Critical Value (5%)           -2.863113e+00\n",
      "Critical Value (10%)          -2.567607e+00\n",
      "dtype: float64\n",
      "Results of Dickey-Fuller Test:\n",
      "Test Statistic                -1.015705e+01\n",
      "p-value                        7.680823e-18\n",
      "#Lags Used                     1.600000e+01\n",
      "Number of Observations Used    1.842000e+03\n",
      "Critical Value (1%)           -3.433905e+00\n",
      "Critical Value (5%)           -2.863110e+00\n",
      "Critical Value (10%)          -2.567606e+00\n",
      "dtype: float64\n",
      "Results of Dickey-Fuller Test:\n",
      "Test Statistic                -1.079549e+01\n",
      "p-value                        2.080690e-19\n",
      "#Lags Used                     1.200000e+01\n",
      "Number of Observations Used    1.846000e+03\n",
      "Critical Value (1%)           -3.433897e+00\n",
      "Critical Value (5%)           -2.863107e+00\n",
      "Critical Value (10%)          -2.567604e+00\n",
      "dtype: float64\n"
     ]
    },
    {
     "data": {
      "text/plain": [
       "DAX     None\n",
       "SMI     None\n",
       "CAC     None\n",
       "FTSE    None\n",
       "dtype: object"
      ]
     },
     "execution_count": 11,
     "metadata": {},
     "output_type": "execute_result"
    }
   ],
   "source": [
    "# Retest the differenced series\n",
    "data_diff.apply(functools.partial(test_stationarity))"
   ]
  },
  {
   "cell_type": "code",
   "execution_count": 13,
   "metadata": {},
   "outputs": [],
   "source": [
    "# Creating the VAR model\n",
    "from statsmodels.tsa.vector_ar.var_model import VAR\n",
    "\n",
    "model = VAR(data_diff)"
   ]
  },
  {
   "cell_type": "code",
   "execution_count": 14,
   "metadata": {},
   "outputs": [
    {
     "data": {
      "text/html": [
       "<table class=\"simpletable\">\n",
       "<caption>VAR Order Selection (* highlights the minimums)</caption>\n",
       "<tr>\n",
       "   <td></td>      <th>AIC</th>         <th>BIC</th>         <th>FPE</th>        <th>HQIC</th>    \n",
       "</tr>\n",
       "<tr>\n",
       "  <th>0</th>  <td>     25.31</td>  <td>     25.32*</td> <td> 9.833e+10</td>  <td>     25.32</td> \n",
       "</tr>\n",
       "<tr>\n",
       "  <th>1</th>  <td>     25.28</td>  <td>     25.34</td>  <td> 9.505e+10</td>  <td>     25.30*</td>\n",
       "</tr>\n",
       "<tr>\n",
       "  <th>2</th>  <td>     25.28</td>  <td>     25.39</td>  <td> 9.553e+10</td>  <td>     25.32</td> \n",
       "</tr>\n",
       "<tr>\n",
       "  <th>3</th>  <td>     25.27</td>  <td>     25.43</td>  <td> 9.458e+10</td>  <td>     25.33</td> \n",
       "</tr>\n",
       "<tr>\n",
       "  <th>4</th>  <td>     25.26</td>  <td>     25.47</td>  <td> 9.382e+10</td>  <td>     25.34</td> \n",
       "</tr>\n",
       "<tr>\n",
       "  <th>5</th>  <td>     25.26</td>  <td>     25.51</td>  <td> 9.357e+10</td>  <td>     25.35</td> \n",
       "</tr>\n",
       "<tr>\n",
       "  <th>6</th>  <td>     25.26</td>  <td>     25.56</td>  <td> 9.332e+10</td>  <td>     25.37</td> \n",
       "</tr>\n",
       "<tr>\n",
       "  <th>7</th>  <td>     25.26</td>  <td>     25.61</td>  <td> 9.361e+10</td>  <td>     25.39</td> \n",
       "</tr>\n",
       "<tr>\n",
       "  <th>8</th>  <td>     25.26</td>  <td>     25.66</td>  <td> 9.371e+10</td>  <td>     25.41</td> \n",
       "</tr>\n",
       "<tr>\n",
       "  <th>9</th>  <td>     25.26</td>  <td>     25.70</td>  <td> 9.314e+10</td>  <td>     25.42</td> \n",
       "</tr>\n",
       "<tr>\n",
       "  <th>10</th> <td>     25.26</td>  <td>     25.75</td>  <td> 9.358e+10</td>  <td>     25.44</td> \n",
       "</tr>\n",
       "<tr>\n",
       "  <th>11</th> <td>     25.26*</td> <td>     25.79</td>  <td> 9.303e+10*</td> <td>     25.45</td> \n",
       "</tr>\n",
       "<tr>\n",
       "  <th>12</th> <td>     25.26</td>  <td>     25.85</td>  <td> 9.347e+10</td>  <td>     25.48</td> \n",
       "</tr>\n",
       "<tr>\n",
       "  <th>13</th> <td>     25.26</td>  <td>     25.89</td>  <td> 9.307e+10</td>  <td>     25.49</td> \n",
       "</tr>\n",
       "<tr>\n",
       "  <th>14</th> <td>     25.26</td>  <td>     25.94</td>  <td> 9.329e+10</td>  <td>     25.51</td> \n",
       "</tr>\n",
       "<tr>\n",
       "  <th>15</th> <td>     25.27</td>  <td>     26.00</td>  <td> 9.425e+10</td>  <td>     25.54</td> \n",
       "</tr>\n",
       "</table>"
      ],
      "text/plain": [
       "<class 'statsmodels.iolib.table.SimpleTable'>"
      ]
     },
     "execution_count": 14,
     "metadata": {},
     "output_type": "execute_result"
    }
   ],
   "source": [
    "# Best model order\n",
    "modsel = model.select_order(15)\n",
    "modsel.summary()"
   ]
  },
  {
   "cell_type": "markdown",
   "metadata": {},
   "source": [
    "# as we can see from above that 11 row is the best as aic and fpe are lowest "
   ]
  },
  {
   "cell_type": "code",
   "execution_count": 15,
   "metadata": {
    "scrolled": false
   },
   "outputs": [
    {
     "data": {
      "text/plain": [
       "  Summary of Regression Results   \n",
       "==================================\n",
       "Model:                         VAR\n",
       "Method:                        OLS\n",
       "Date:           Sun, 28, Apr, 2019\n",
       "Time:                     00:23:53\n",
       "--------------------------------------------------------------------\n",
       "No. of Equations:         4.00000    BIC:                    25.7862\n",
       "Nobs:                     1848.00    HQIC:                   25.4466\n",
       "Log likelihood:          -33638.3    FPE:                9.23092e+10\n",
       "AIC:                      25.2484    Det(Omega_mle):     8.38399e+10\n",
       "--------------------------------------------------------------------\n",
       "Results for equation DAX\n",
       "===========================================================================\n",
       "              coefficient       std. error           t-stat            prob\n",
       "---------------------------------------------------------------------------\n",
       "const            1.689997         0.772454            2.188           0.029\n",
       "L1.DAX          -0.002794         0.042406           -0.066           0.947\n",
       "L1.SMI          -0.106047         0.029764           -3.563           0.000\n",
       "L1.CAC           0.074580         0.046291            1.611           0.107\n",
       "L1.FTSE          0.084242         0.036405            2.314           0.021\n",
       "L2.DAX           0.006051         0.042357            0.143           0.886\n",
       "L2.SMI          -0.023744         0.029874           -0.795           0.427\n",
       "L2.CAC           0.082567         0.046370            1.781           0.075\n",
       "L2.FTSE         -0.082340         0.036647           -2.247           0.025\n",
       "L3.DAX          -0.070828         0.042131           -1.681           0.093\n",
       "L3.SMI           0.005490         0.029829            0.184           0.854\n",
       "L3.CAC           0.056238         0.046490            1.210           0.226\n",
       "L3.FTSE          0.034574         0.036766            0.940           0.347\n",
       "L4.DAX          -0.050557         0.042108           -1.201           0.230\n",
       "L4.SMI           0.015083         0.029975            0.503           0.615\n",
       "L4.CAC           0.107053         0.046670            2.294           0.022\n",
       "L4.FTSE         -0.060486         0.036907           -1.639           0.101\n",
       "L5.DAX          -0.002764         0.042397           -0.065           0.948\n",
       "L5.SMI          -0.090774         0.030195           -3.006           0.003\n",
       "L5.CAC           0.082208         0.046651            1.762           0.078\n",
       "L5.FTSE         -0.032179         0.036959           -0.871           0.384\n",
       "L6.DAX          -0.013454         0.042287           -0.318           0.750\n",
       "L6.SMI           0.027158         0.030250            0.898           0.369\n",
       "L6.CAC           0.102798         0.046720            2.200           0.028\n",
       "L6.FTSE         -0.011240         0.036843           -0.305           0.760\n",
       "L7.DAX           0.060914         0.042345            1.439           0.150\n",
       "L7.SMI           0.008474         0.030296            0.280           0.780\n",
       "L7.CAC          -0.057849         0.046792           -1.236           0.216\n",
       "L7.FTSE         -0.047575         0.036888           -1.290           0.197\n",
       "L8.DAX          -0.040198         0.042332           -0.950           0.342\n",
       "L8.SMI           0.094140         0.030456            3.091           0.002\n",
       "L8.CAC          -0.109483         0.046762           -2.341           0.019\n",
       "L8.FTSE          0.051233         0.036867            1.390           0.165\n",
       "L9.DAX          -0.013915         0.042390           -0.328           0.743\n",
       "L9.SMI          -0.012519         0.030503           -0.410           0.682\n",
       "L9.CAC           0.137788         0.046503            2.963           0.003\n",
       "L9.FTSE          0.001811         0.036969            0.049           0.961\n",
       "L10.DAX          0.062420         0.042460            1.470           0.142\n",
       "L10.SMI          0.030617         0.030615            1.000           0.317\n",
       "L10.CAC         -0.004618         0.046573           -0.099           0.921\n",
       "L10.FTSE        -0.082541         0.037087           -2.226           0.026\n",
       "L11.DAX          0.084358         0.042150            2.001           0.045\n",
       "L11.SMI          0.062522         0.030442            2.054           0.040\n",
       "L11.CAC         -0.000481         0.046600           -0.010           0.992\n",
       "L11.FTSE        -0.043432         0.036936           -1.176           0.240\n",
       "===========================================================================\n",
       "\n",
       "Results for equation SMI\n",
       "===========================================================================\n",
       "              coefficient       std. error           t-stat            prob\n",
       "---------------------------------------------------------------------------\n",
       "const            2.666518         0.945949            2.819           0.005\n",
       "L1.DAX           0.015861         0.051931            0.305           0.760\n",
       "L1.SMI          -0.045199         0.036448           -1.240           0.215\n",
       "L1.CAC           0.048672         0.056688            0.859           0.391\n",
       "L1.FTSE          0.140080         0.044582            3.142           0.002\n",
       "L2.DAX          -0.011278         0.051871           -0.217           0.828\n",
       "L2.SMI           0.008591         0.036583            0.235           0.814\n",
       "L2.CAC           0.124562         0.056785            2.194           0.028\n",
       "L2.FTSE         -0.098270         0.044878           -2.190           0.029\n",
       "L3.DAX          -0.154551         0.051594           -2.996           0.003\n",
       "L3.SMI          -0.004518         0.036528           -0.124           0.902\n",
       "L3.CAC           0.106761         0.056931            1.875           0.061\n",
       "L3.FTSE          0.122540         0.045024            2.722           0.006\n",
       "L4.DAX          -0.179588         0.051565           -3.483           0.000\n",
       "L4.SMI           0.027766         0.036707            0.756           0.449\n",
       "L4.CAC           0.134131         0.057153            2.347           0.019\n",
       "L4.FTSE         -0.006755         0.045197           -0.149           0.881\n",
       "L5.DAX          -0.010278         0.051919           -0.198           0.843\n",
       "L5.SMI          -0.081579         0.036977           -2.206           0.027\n",
       "L5.CAC           0.082653         0.057129            1.447           0.148\n",
       "L5.FTSE         -0.045753         0.045260           -1.011           0.312\n",
       "L6.DAX          -0.075441         0.051785           -1.457           0.145\n",
       "L6.SMI           0.012696         0.037044            0.343           0.732\n",
       "L6.CAC           0.121670         0.057213            2.127           0.033\n",
       "L6.FTSE         -0.013926         0.045118           -0.309           0.758\n",
       "L7.DAX           0.124840         0.051856            2.407           0.016\n",
       "L7.SMI          -0.001572         0.037101           -0.042           0.966\n",
       "L7.CAC          -0.101293         0.057302           -1.768           0.077\n",
       "L7.FTSE         -0.056893         0.045173           -1.259           0.208\n",
       "L8.DAX           0.002253         0.051840            0.043           0.965\n",
       "L8.SMI           0.082039         0.037297            2.200           0.028\n",
       "L8.CAC          -0.087675         0.057265           -1.531           0.126\n",
       "L8.FTSE         -0.018896         0.045147           -0.419           0.676\n",
       "L9.DAX           0.090922         0.051910            1.752           0.080\n",
       "L9.SMI          -0.118136         0.037354           -3.163           0.002\n",
       "L9.CAC           0.085499         0.056948            1.501           0.133\n",
       "L9.FTSE          0.077151         0.045272            1.704           0.088\n",
       "L10.DAX          0.044624         0.051996            0.858           0.391\n",
       "L10.SMI          0.044485         0.037491            1.187           0.235\n",
       "L10.CAC          0.047197         0.057033            0.828           0.408\n",
       "L10.FTSE        -0.091617         0.045417           -2.017           0.044\n",
       "L11.DAX          0.091222         0.051617            1.767           0.077\n",
       "L11.SMI          0.074200         0.037280            1.990           0.047\n",
       "L11.CAC         -0.002739         0.057067           -0.048           0.962\n",
       "L11.FTSE        -0.032980         0.045232           -0.729           0.466\n",
       "===========================================================================\n",
       "\n",
       "Results for equation CAC\n",
       "===========================================================================\n",
       "              coefficient       std. error           t-stat            prob\n",
       "---------------------------------------------------------------------------\n",
       "const            1.259414         0.629391            2.001           0.045\n",
       "L1.DAX          -0.004808         0.034552           -0.139           0.889\n",
       "L1.SMI          -0.075696         0.024251           -3.121           0.002\n",
       "L1.CAC           0.042553         0.037717            1.128           0.259\n",
       "L1.FTSE          0.087086         0.029663            2.936           0.003\n",
       "L2.DAX           0.010514         0.034512            0.305           0.761\n",
       "L2.SMI          -0.032858         0.024341           -1.350           0.177\n",
       "L2.CAC           0.087829         0.037782            2.325           0.020\n",
       "L2.FTSE         -0.063708         0.029859           -2.134           0.033\n",
       "L3.DAX          -0.032736         0.034328           -0.954           0.340\n",
       "L3.SMI           0.026506         0.024304            1.091           0.275\n",
       "L3.CAC          -0.057546         0.037880           -1.519           0.129\n",
       "L3.FTSE          0.021721         0.029957            0.725           0.468\n",
       "L4.DAX          -0.114794         0.034309           -3.346           0.001\n",
       "L4.SMI           0.044344         0.024423            1.816           0.069\n",
       "L4.CAC           0.072546         0.038027            1.908           0.056\n",
       "L4.FTSE         -0.023634         0.030072           -0.786           0.432\n",
       "L5.DAX          -0.048215         0.034545           -1.396           0.163\n",
       "L5.SMI          -0.037409         0.024603           -1.521           0.128\n",
       "L5.CAC           0.048496         0.038011            1.276           0.202\n",
       "L5.FTSE         -0.011392         0.030114           -0.378           0.705\n",
       "L6.DAX          -0.013699         0.034455           -0.398           0.691\n",
       "L6.SMI           0.017909         0.024647            0.727           0.467\n",
       "L6.CAC           0.055414         0.038067            1.456           0.145\n",
       "L6.FTSE         -0.006018         0.030019           -0.200           0.841\n",
       "L7.DAX           0.083216         0.034503            2.412           0.016\n",
       "L7.SMI          -0.006611         0.024685           -0.268           0.789\n",
       "L7.CAC          -0.051019         0.038126           -1.338           0.181\n",
       "L7.FTSE         -0.061200         0.030056           -2.036           0.042\n",
       "L8.DAX           0.009058         0.034492            0.263           0.793\n",
       "L8.SMI           0.024778         0.024815            0.998           0.318\n",
       "L8.CAC          -0.097555         0.038101           -2.560           0.010\n",
       "L8.FTSE          0.048158         0.030039            1.603           0.109\n",
       "L9.DAX           0.026921         0.034539            0.779           0.436\n",
       "L9.SMI          -0.035057         0.024854           -1.411           0.158\n",
       "L9.CAC           0.050274         0.037890            1.327           0.185\n",
       "L9.FTSE         -0.004110         0.030122           -0.136           0.891\n",
       "L10.DAX          0.040372         0.034596            1.167           0.243\n",
       "L10.SMI          0.006593         0.024945            0.264           0.792\n",
       "L10.CAC         -0.019308         0.037947           -0.509           0.611\n",
       "L10.FTSE        -0.017077         0.030218           -0.565           0.572\n",
       "L11.DAX          0.058186         0.034343            1.694           0.090\n",
       "L11.SMI          0.013728         0.024804            0.553           0.580\n",
       "L11.CAC         -0.015487         0.037970           -0.408           0.683\n",
       "L11.FTSE        -0.010573         0.030095           -0.351           0.725\n",
       "===========================================================================\n",
       "\n",
       "Results for equation FTSE\n",
       "===========================================================================\n",
       "              coefficient       std. error           t-stat            prob\n",
       "---------------------------------------------------------------------------\n",
       "const            1.152197         0.726203            1.587           0.113\n",
       "L1.DAX           0.024204         0.039867            0.607           0.544\n",
       "L1.SMI          -0.093526         0.027981           -3.342           0.001\n",
       "L1.CAC          -0.008986         0.043519           -0.206           0.836\n",
       "L1.FTSE          0.174825         0.034225            5.108           0.000\n",
       "L2.DAX           0.017229         0.039821            0.433           0.665\n",
       "L2.SMI          -0.029392         0.028085           -1.047           0.295\n",
       "L2.CAC           0.036309         0.043594            0.833           0.405\n",
       "L2.FTSE         -0.031833         0.034452           -0.924           0.355\n",
       "L3.DAX          -0.056385         0.039609           -1.424           0.155\n",
       "L3.SMI           0.007695         0.028043            0.274           0.784\n",
       "L3.CAC           0.059397         0.043706            1.359           0.174\n",
       "L3.FTSE          0.007770         0.034565            0.225           0.822\n",
       "L4.DAX          -0.050778         0.039586           -1.283           0.200\n",
       "L4.SMI           0.038835         0.028180            1.378           0.168\n",
       "L4.CAC           0.081026         0.043876            1.847           0.065\n",
       "L4.FTSE         -0.091401         0.034697           -2.634           0.008\n",
       "L5.DAX          -0.018029         0.039858           -0.452           0.651\n",
       "L5.SMI          -0.034902         0.028387           -1.229           0.219\n",
       "L5.CAC           0.106804         0.043857            2.435           0.015\n",
       "L5.FTSE         -0.066915         0.034746           -1.926           0.054\n",
       "L6.DAX          -0.026199         0.039755           -0.659           0.510\n",
       "L6.SMI           0.058326         0.028439            2.051           0.040\n",
       "L6.CAC           0.105054         0.043922            2.392           0.017\n",
       "L6.FTSE         -0.093175         0.034637           -2.690           0.007\n",
       "L7.DAX           0.039812         0.039810            1.000           0.317\n",
       "L7.SMI           0.060004         0.028482            2.107           0.035\n",
       "L7.CAC          -0.054583         0.043990           -1.241           0.215\n",
       "L7.FTSE         -0.058763         0.034679           -1.694           0.090\n",
       "L8.DAX          -0.014377         0.039797           -0.361           0.718\n",
       "L8.SMI           0.058015         0.028633            2.026           0.043\n",
       "L8.CAC          -0.068864         0.043962           -1.566           0.117\n",
       "L8.FTSE          0.015254         0.034659            0.440           0.660\n",
       "L9.DAX           0.008078         0.039851            0.203           0.839\n",
       "L9.SMI          -0.025648         0.028677           -0.894           0.371\n",
       "L9.CAC           0.073327         0.043718            1.677           0.093\n",
       "L9.FTSE          0.013886         0.034755            0.400           0.690\n",
       "L10.DAX          0.048346         0.039917            1.211           0.226\n",
       "L10.SMI         -0.026559         0.028781           -0.923           0.356\n",
       "L10.CAC         -0.002653         0.043784           -0.061           0.952\n",
       "L10.FTSE        -0.036373         0.034867           -1.043           0.297\n",
       "L11.DAX          0.080742         0.039626            2.038           0.042\n",
       "L11.SMI          0.038228         0.028620            1.336           0.182\n",
       "L11.CAC         -0.012021         0.043810           -0.274           0.784\n",
       "L11.FTSE         0.003188         0.034724            0.092           0.927\n",
       "===========================================================================\n",
       "\n",
       "Correlation matrix of residuals\n",
       "             DAX       SMI       CAC      FTSE\n",
       "DAX     1.000000  0.744557  0.742407  0.670121\n",
       "SMI     0.744557  1.000000  0.638675  0.609294\n",
       "CAC     0.742407  0.638675  1.000000  0.669407\n",
       "FTSE    0.670121  0.609294  0.669407  1.000000\n",
       "\n"
      ]
     },
     "execution_count": 15,
     "metadata": {},
     "output_type": "execute_result"
    }
   ],
   "source": [
    "# Automated model order selection\n",
    "results = model.fit(maxlags=15, ic='aic')\n",
    "results.summary()"
   ]
  },
  {
   "cell_type": "markdown",
   "metadata": {},
   "source": [
    "# Granger test for causality and corelation\n"
   ]
  },
  {
   "cell_type": "code",
   "execution_count": 18,
   "metadata": {},
   "outputs": [
    {
     "data": {
      "text/html": [
       "<table class=\"simpletable\">\n",
       "<caption>Granger causality F-test. H_0: %s do not Granger-cause DAX. Conclusion: reject H_0 at 5% significance level.</caption>\n",
       "<tr>\n",
       "  <th>Test statistic</th> <th>Critical value</th> <th>p-value</th>     <th>df</th>    \n",
       "</tr>\n",
       "<tr>\n",
       "       <td>2.881</td>          <td>1.438</td>      <td>0.000</td>  <td>(33, 7212)</td>\n",
       "</tr>\n",
       "</table>"
      ],
      "text/plain": [
       "<class 'statsmodels.iolib.table.SimpleTable'>"
      ]
     },
     "execution_count": 18,
     "metadata": {},
     "output_type": "execute_result"
    }
   ],
   "source": [
    "\n",
    "gt = results.test_causality('DAX', ['SMI', 'CAC', 'FTSE'], kind='f')\n",
    "gt.summary()"
   ]
  },
  {
   "cell_type": "code",
   "execution_count": 19,
   "metadata": {
    "scrolled": false
   },
   "outputs": [
    {
     "data": {
      "text/plain": [
       "<Figure size 864x720 with 0 Axes>"
      ]
     },
     "metadata": {},
     "output_type": "display_data"
    },
    {
     "data": {
      "image/png": "[encoded data removed]",
      "text/plain": [
       "<Figure size 720x720 with 4 Axes>"
      ]
     },
     "metadata": {
      "needs_background": "light"
     },
     "output_type": "display_data"
    }
   ],
   "source": [
    "import matplotlib.pyplot as plt\n",
    "plt.figure(figsize = (12, 10))\n",
    "results.plot_forecast(50)\n",
    "plt.tight_layout(h_pad = 1.15)\n",
    "plt.show()"
   ]
  },
  {
   "cell_type": "markdown",
   "metadata": {},
   "source": [
    "# as we can see that the plot is of difference data so it is not much of use "
   ]
  },
  {
   "cell_type": "code",
   "execution_count": 21,
   "metadata": {},
   "outputs": [],
   "source": [
    "fcast = results.forecast(data_diff.values, 50)"
   ]
  },
  {
   "cell_type": "code",
   "execution_count": 22,
   "metadata": {},
   "outputs": [
    {
     "data": {
      "text/html": [
       "<div>\n",
       "<style scoped>\n",
       "    .dataframe tbody tr th:only-of-type {\n",
       "        vertical-align: middle;\n",
       "    }\n",
       "\n",
       "    .dataframe tbody tr th {\n",
       "        vertical-align: top;\n",
       "    }\n",
       "\n",
       "    .dataframe thead th {\n",
       "        text-align: right;\n",
       "    }\n",
       "</style>\n",
       "<table border=\"1\" class=\"dataframe\">\n",
       "  <thead>\n",
       "    <tr style=\"text-align: right;\">\n",
       "      <th></th>\n",
       "      <th>0</th>\n",
       "      <th>1</th>\n",
       "      <th>2</th>\n",
       "      <th>3</th>\n",
       "    </tr>\n",
       "  </thead>\n",
       "  <tbody>\n",
       "    <tr>\n",
       "      <th>0</th>\n",
       "      <td>2.741324</td>\n",
       "      <td>0.096875</td>\n",
       "      <td>4.277166</td>\n",
       "      <td>-1.866084</td>\n",
       "    </tr>\n",
       "    <tr>\n",
       "      <th>1</th>\n",
       "      <td>-10.667937</td>\n",
       "      <td>1.598237</td>\n",
       "      <td>-3.815663</td>\n",
       "      <td>-8.844529</td>\n",
       "    </tr>\n",
       "    <tr>\n",
       "      <th>2</th>\n",
       "      <td>-16.799369</td>\n",
       "      <td>-16.271632</td>\n",
       "      <td>-12.841545</td>\n",
       "      <td>-7.252005</td>\n",
       "    </tr>\n",
       "    <tr>\n",
       "      <th>3</th>\n",
       "      <td>-5.835582</td>\n",
       "      <td>-29.049581</td>\n",
       "      <td>-2.570316</td>\n",
       "      <td>-7.261091</td>\n",
       "    </tr>\n",
       "    <tr>\n",
       "      <th>4</th>\n",
       "      <td>-42.079109</td>\n",
       "      <td>-27.371264</td>\n",
       "      <td>-17.589227</td>\n",
       "      <td>-18.620932</td>\n",
       "    </tr>\n",
       "    <tr>\n",
       "      <th>5</th>\n",
       "      <td>5.382486</td>\n",
       "      <td>-2.529855</td>\n",
       "      <td>5.556139</td>\n",
       "      <td>14.653687</td>\n",
       "    </tr>\n",
       "    <tr>\n",
       "      <th>6</th>\n",
       "      <td>-18.456412</td>\n",
       "      <td>-26.073089</td>\n",
       "      <td>-9.344941</td>\n",
       "      <td>-2.803496</td>\n",
       "    </tr>\n",
       "    <tr>\n",
       "      <th>7</th>\n",
       "      <td>-5.182611</td>\n",
       "      <td>-6.843618</td>\n",
       "      <td>0.111457</td>\n",
       "      <td>-16.542253</td>\n",
       "    </tr>\n",
       "    <tr>\n",
       "      <th>8</th>\n",
       "      <td>24.483501</td>\n",
       "      <td>33.339289</td>\n",
       "      <td>9.212176</td>\n",
       "      <td>17.710238</td>\n",
       "    </tr>\n",
       "    <tr>\n",
       "      <th>9</th>\n",
       "      <td>6.596430</td>\n",
       "      <td>12.813030</td>\n",
       "      <td>5.150053</td>\n",
       "      <td>-3.233233</td>\n",
       "    </tr>\n",
       "  </tbody>\n",
       "</table>\n",
       "</div>"
      ],
      "text/plain": [
       "           0          1          2          3\n",
       "0   2.741324   0.096875   4.277166  -1.866084\n",
       "1 -10.667937   1.598237  -3.815663  -8.844529\n",
       "2 -16.799369 -16.271632 -12.841545  -7.252005\n",
       "3  -5.835582 -29.049581  -2.570316  -7.261091\n",
       "4 -42.079109 -27.371264 -17.589227 -18.620932\n",
       "5   5.382486  -2.529855   5.556139  14.653687\n",
       "6 -18.456412 -26.073089  -9.344941  -2.803496\n",
       "7  -5.182611  -6.843618   0.111457 -16.542253\n",
       "8  24.483501  33.339289   9.212176  17.710238\n",
       "9   6.596430  12.813030   5.150053  -3.233233"
      ]
     },
     "execution_count": 22,
     "metadata": {},
     "output_type": "execute_result"
    }
   ],
   "source": [
    "pd.DataFrame(fcast).head(10)"
   ]
  },
  {
   "cell_type": "code",
   "execution_count": 23,
   "metadata": {},
   "outputs": [
    {
     "data": {
      "text/plain": [
       "0     2.741324\n",
       "1   -10.667937\n",
       "2   -16.799369\n",
       "3    -5.835582\n",
       "4   -42.079109\n",
       "5     5.382486\n",
       "6   -18.456412\n",
       "7    -5.182611\n",
       "8    24.483501\n",
       "9     6.596430\n",
       "Name: 0, dtype: float64"
      ]
     },
     "execution_count": 23,
     "metadata": {},
     "output_type": "execute_result"
    }
   ],
   "source": [
    "DAXvalues = pd.DataFrame(fcast)[0]\n",
    "DAXvalues.head(10)"
   ]
  },
  {
   "cell_type": "code",
   "execution_count": 40,
   "metadata": {},
   "outputs": [
    {
     "data": {
      "text/html": [
       "<div>\n",
       "<style scoped>\n",
       "    .dataframe tbody tr th:only-of-type {\n",
       "        vertical-align: middle;\n",
       "    }\n",
       "\n",
       "    .dataframe tbody tr th {\n",
       "        vertical-align: top;\n",
       "    }\n",
       "\n",
       "    .dataframe thead th {\n",
       "        text-align: right;\n",
       "    }\n",
       "</style>\n",
       "<table border=\"1\" class=\"dataframe\">\n",
       "  <thead>\n",
       "    <tr style=\"text-align: right;\">\n",
       "      <th></th>\n",
       "      <th>0</th>\n",
       "      <th>DAX</th>\n",
       "      <th>SMI</th>\n",
       "      <th>CAC</th>\n",
       "      <th>FTSE</th>\n",
       "    </tr>\n",
       "  </thead>\n",
       "  <tbody>\n",
       "    <tr>\n",
       "      <th>1998-02-10</th>\n",
       "      <td>1856.0</td>\n",
       "      <td>5460.43</td>\n",
       "      <td>7721.3</td>\n",
       "      <td>3939.5</td>\n",
       "      <td>5587.6</td>\n",
       "    </tr>\n",
       "    <tr>\n",
       "      <th>1998-02-11</th>\n",
       "      <td>1857.0</td>\n",
       "      <td>5285.78</td>\n",
       "      <td>7447.9</td>\n",
       "      <td>3846.0</td>\n",
       "      <td>5432.8</td>\n",
       "    </tr>\n",
       "    <tr>\n",
       "      <th>1998-02-12</th>\n",
       "      <td>1858.0</td>\n",
       "      <td>5386.94</td>\n",
       "      <td>7607.5</td>\n",
       "      <td>3945.7</td>\n",
       "      <td>5462.2</td>\n",
       "    </tr>\n",
       "    <tr>\n",
       "      <th>1998-02-13</th>\n",
       "      <td>1859.0</td>\n",
       "      <td>5355.03</td>\n",
       "      <td>7552.6</td>\n",
       "      <td>3951.7</td>\n",
       "      <td>5399.5</td>\n",
       "    </tr>\n",
       "    <tr>\n",
       "      <th>1998-02-16</th>\n",
       "      <td>1860.0</td>\n",
       "      <td>5473.72</td>\n",
       "      <td>7676.3</td>\n",
       "      <td>3995.0</td>\n",
       "      <td>5455.0</td>\n",
       "    </tr>\n",
       "  </tbody>\n",
       "</table>\n",
       "</div>"
      ],
      "text/plain": [
       "                 0      DAX     SMI     CAC    FTSE\n",
       "1998-02-10  1856.0  5460.43  7721.3  3939.5  5587.6\n",
       "1998-02-11  1857.0  5285.78  7447.9  3846.0  5432.8\n",
       "1998-02-12  1858.0  5386.94  7607.5  3945.7  5462.2\n",
       "1998-02-13  1859.0  5355.03  7552.6  3951.7  5399.5\n",
       "1998-02-16  1860.0  5473.72  7676.3  3995.0  5455.0"
      ]
     },
     "execution_count": 40,
     "metadata": {},
     "output_type": "execute_result"
    }
   ],
   "source": [
    "data_frame.tail()"
   ]
  },
  {
   "cell_type": "markdown",
   "metadata": {},
   "source": [
    "# using cumsum "
   ]
  },
  {
   "cell_type": "code",
   "execution_count": 44,
   "metadata": {},
   "outputs": [],
   "source": [
    "inverse_diff_data = np.cumsum(DAXvalues) + 5473.72"
   ]
  },
  {
   "cell_type": "code",
   "execution_count": 45,
   "metadata": {},
   "outputs": [
    {
     "data": {
      "image/png": "[encoded data removed]",
      "text/plain": [
       "<Figure size 648x504 with 1 Axes>"
      ]
     },
     "metadata": {
      "needs_background": "light"
     },
     "output_type": "display_data"
    }
   ],
   "source": [
    "plt.figure(figsize = (9,7))\n",
    "plt.plot(inverse_diff_data)\n",
    "plt.title('Dax Forecast')\n",
    "plt.grid()\n",
    "plt.show()"
   ]
  },
  {
   "cell_type": "code",
   "execution_count": 48,
   "metadata": {},
   "outputs": [
    {
     "data": {
      "text/plain": [
       "0    5476.461324\n",
       "1    5465.793387\n",
       "2    5448.994018\n",
       "3    5443.158436\n",
       "4    5401.079327\n",
       "Name: 0, dtype: float64"
      ]
     },
     "execution_count": 48,
     "metadata": {},
     "output_type": "execute_result"
    }
   ],
   "source": [
    "inverse_diff_data.head()"
   ]
  },
  {
   "cell_type": "code",
   "execution_count": null,
   "metadata": {},
   "outputs": [],
   "source": []
  },
  {
   "cell_type": "code",
   "execution_count": null,
   "metadata": {},
   "outputs": [],
   "source": []
  }
 ],
 "metadata": {
  "kernelspec": {
   "display_name": "Python 3",
   "language": "python",
   "name": "python3"
  },
  "language_info": {
   "codemirror_mode": {
    "name": "ipython",
    "version": 3
   },
   "file_extension": ".py",
   "mimetype": "text/x-python",
   "name": "python",
   "nbconvert_exporter": "python",
   "pygments_lexer": "ipython3",
   "version": "3.7.1"
  }
 },
 "nbformat": 4,
 "nbformat_minor": 2
}
